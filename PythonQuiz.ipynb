{
 "cells": [
  {
   "cell_type": "markdown",
   "id": "034f9506-e810-447d-aee9-71eb2390fa23",
   "metadata": {},
   "source": [
    "# BMI 500 Lab1"
   ]
  },
  {
   "cell_type": "markdown",
   "id": "5140486b-9a0f-4030-8fe0-b1fd33a1bf82",
   "metadata": {},
   "source": [
    "## Problem 1"
   ]
  },
  {
   "cell_type": "code",
   "execution_count": 1,
   "id": "f29a091d-1c21-4e74-bfaf-26eb649f6ebb",
   "metadata": {},
   "outputs": [
    {
     "name": "stdout",
     "output_type": "stream",
     "text": [
      "0.8666666666666667\n"
     ]
    }
   ],
   "source": [
    "#make for loop for range of n\n",
    "#use Leibniz formula\n",
    "def Leibniz_formula(n):\n",
    "    total = 0\n",
    "    for k in range(n):\n",
    "        total += (-1)**k/(2*k+1)\n",
    "    return total"
   ]
  },
  {
   "cell_type": "markdown",
   "id": "77404b4e-0202-4ad9-8013-f60b55d57aed",
   "metadata": {},
   "source": [
    "## Problem 2"
   ]
  },
  {
   "cell_type": "code",
   "execution_count": 14,
   "id": "f8cdfec2-6d4c-4bc7-8d8d-29f01963aeaa",
   "metadata": {},
   "outputs": [],
   "source": [
    "#part a; add if statement with %\n",
    "def Leibniz_formula_remainder(n):\n",
    "    total = 0\n",
    "    for k in range(n):\n",
    "        value = (-1)/(2*k+1)\n",
    "        if k%2 == 0:\n",
    "            value *=-1\n",
    "        total += value\n",
    "    return total"
   ]
  },
  {
   "cell_type": "code",
   "execution_count": 15,
   "id": "822903bc-0115-42d9-b90f-1a6595a4ed51",
   "metadata": {},
   "outputs": [],
   "source": [
    "#part b; for-loop with the quantity (-1)**n\n",
    "def Leibniz_formula_npower(n):\n",
    "    total = 0\n",
    "    for k in range(n):\n",
    "        total += (-1)**k/(2*k+1)\n",
    "    return total"
   ]
  },
  {
   "cell_type": "code",
   "execution_count": 19,
   "id": "7995031e-e601-4499-a788-2653addb396a",
   "metadata": {},
   "outputs": [],
   "source": [
    "#part c; construct a list\n",
    "def Leibniz_formula_list(n):\n",
    "    total_list = []\n",
    "    for k in range(n):\n",
    "        value = (-1)/(2*k+1)\n",
    "        if k%2 == 0:\n",
    "            value *=-1\n",
    "        total_list.append(value)\n",
    "    total = sum(total_list)\n",
    "    return total"
   ]
  },
  {
   "cell_type": "code",
   "execution_count": 28,
   "id": "91f1a8c9-7cad-4bc9-8a6c-ff264b39fe40",
   "metadata": {},
   "outputs": [
    {
     "data": {
      "text/plain": [
       "0.8666666666666667"
      ]
     },
     "execution_count": 28,
     "metadata": {},
     "output_type": "execute_result"
    }
   ],
   "source": [
    "#part d; construct a set\n",
    "def Leibniz_formula_set(n):\n",
    "    total_set = set()\n",
    "    for k in range(n):\n",
    "        value = (-1)/(2*k+1)\n",
    "        if k%2 == 0:\n",
    "            value *=-1\n",
    "        total_set.add(value)\n",
    "    total = sum(total_set)\n",
    "    return total"
   ]
  },
  {
   "cell_type": "code",
   "execution_count": 47,
   "id": "0d05ce1a-a24f-4eaa-bb95-2fff0b9f375f",
   "metadata": {},
   "outputs": [],
   "source": [
    "#part e; construct a dictionary\n",
    "def Leibniz_formula_dict(n):\n",
    "    dictionary = {}\n",
    "    for k in range(n):\n",
    "        value = (-1)/(2*k+1)\n",
    "        if k%2 == 0:\n",
    "            value *=-1\n",
    "        dictionary[k] = value\n",
    "    total = sum(dictionary.values())\n",
    "    return total"
   ]
  },
  {
   "cell_type": "code",
   "execution_count": 22,
   "id": "f8f6c3d3-19cb-4dd6-b836-938b7b5aa75f",
   "metadata": {},
   "outputs": [
    {
     "name": "stdout",
     "output_type": "stream",
     "text": [
      "0.8666666666666667\n"
     ]
    }
   ],
   "source": [
    "#part f; NumPy array\n",
    "import numpy as np\n",
    "def Leibniz_formula_np(n):\n",
    "    arr = np.empty(n)\n",
    "    for k in range(n):\n",
    "        value = (-1)/(2*k+1)\n",
    "        if k%2 == 0:\n",
    "            value *=-1\n",
    "        arr[k]=value\n",
    "    total = np.sum(arr)\n",
    "    return total"
   ]
  },
  {
   "cell_type": "code",
   "execution_count": 29,
   "id": "8a401203-c195-4231-bc28-bc6f94f402ac",
   "metadata": {},
   "outputs": [],
   "source": [
    "#part g; NumPy array indexing alternating sums\n",
    "import numpy as np\n",
    "def Leibniz_formula_np_alt(n):\n",
    "    arr = np.empty(n)\n",
    "    for k in range(n):\n",
    "        value = (-1)/(2*k+1)\n",
    "        if k%2 == 0:\n",
    "            value *=-1\n",
    "        arr[k]=value\n",
    "    positive_list = arr[::2]\n",
    "    negative_list = arr[1::2]\n",
    "    totalpos = np.sum(positive_list)\n",
    "    totalneg = np.sum(negative_list)\n",
    "    return totalpos+totalneg"
   ]
  },
  {
   "cell_type": "code",
   "execution_count": 44,
   "id": "ad308ccc-58cc-4dee-8052-fe097070597f",
   "metadata": {},
   "outputs": [],
   "source": [
    "#part j; non-alternating sums\n",
    "def Leibniz_formula_nalt(n):\n",
    "    total_list = []\n",
    "    for k in range(n):\n",
    "        value = (-1)/(2*k+1)\n",
    "        if k%2 == 0:\n",
    "            value *=-1\n",
    "        total_list.append(value)\n",
    "    \n",
    "    pair_list = []\n",
    "    i=0\n",
    "    if n%2==0:\n",
    "        while i<len(total_list):\n",
    "            pair_list.append(total_list[i]+total_list[i+1])\n",
    "            i+=2\n",
    "    else:\n",
    "        while i<len(total_list)-1:\n",
    "            pair_list.append(total_list[i]+total_list[i+1])\n",
    "            i+=2\n",
    "        pair_list.append(total_list[-1])\n",
    "    \n",
    "    total = sum(total_list)\n",
    "    return total"
   ]
  },
  {
   "cell_type": "markdown",
   "id": "9f68fac2-bf4f-4290-b5a1-8641d3675014",
   "metadata": {},
   "source": [
    "## Problem 3"
   ]
  },
  {
   "cell_type": "code",
   "execution_count": 66,
   "id": "1d5aae0c-3165-49a8-b88e-1bee3feb9dbe",
   "metadata": {},
   "outputs": [
    {
     "name": "stdout",
     "output_type": "stream",
     "text": [
      "min time :  0.0\n",
      "best accuracy :  0.001001000750255443\n",
      "The method: <function Leibniz_formula_set at 0x7ff28217b1f0>\n"
     ]
    }
   ],
   "source": [
    "#Which of these implementations of the Leibniz formula is the most accurate, fastest, and/or clearest?\n",
    "import time\n",
    "import numpy as np\n",
    "PI = np.pi\n",
    "\n",
    "def Leibniz_formula_remainder(n):\n",
    "    total = 0\n",
    "    for k in range(n):\n",
    "        value = (-1)/(2*k+1)\n",
    "        if k%2 == 0:\n",
    "            value *=-1\n",
    "        total += value\n",
    "    return total\n",
    "\n",
    "def Leibniz_formula_npower(n):\n",
    "    total = 0\n",
    "    for k in range(n):\n",
    "        total += (-1)**k/(2*k+1)\n",
    "    return total\n",
    "\n",
    "def Leibniz_formula_set(n):\n",
    "    total_set = set()\n",
    "    for k in range(n):\n",
    "        value = (-1)/(2*k+1)\n",
    "        if k%2 == 0:\n",
    "            value *=-1\n",
    "        total_set.add(value)\n",
    "    total = sum(total_set)\n",
    "    return total\n",
    "\n",
    "def Leibniz_formula_dict(n):\n",
    "    dictionary = {}\n",
    "    for k in range(n):\n",
    "        value = (-1)/(2*k+1)\n",
    "        if k%2 == 0:\n",
    "            value *=-1\n",
    "        dictionary[k] = value\n",
    "    total = sum(dictionary.values())\n",
    "    return total\n",
    "\n",
    "def Leibniz_formula_np(n):\n",
    "    arr = np.empty(n)\n",
    "    for k in range(n):\n",
    "        value = (-1)/(2*k+1)\n",
    "        if k%2 == 0:\n",
    "            value *=-1\n",
    "        arr[k]=value\n",
    "    total = np.sum(arr)\n",
    "    return total\n",
    "\n",
    "def Leibniz_formula_np_alt(n):\n",
    "    arr = np.empty(n)\n",
    "    for k in range(n):\n",
    "        value = (-1)/(2*k+1)\n",
    "        if k%2 == 0:\n",
    "            value *=-1\n",
    "        arr[k]=value\n",
    "    positive_list = arr[::2]\n",
    "    negative_list = arr[1::2]\n",
    "    totalpos = np.sum(positive_list)\n",
    "    totalneg = np.sum(negative_list)\n",
    "    return totalpos+totalneg\n",
    "\n",
    "def Leibniz_formula_alt(n):\n",
    "    total_list = []\n",
    "    for k in range(n):\n",
    "        value = (-1)/(2*k+1)\n",
    "        if k%2 == 0:\n",
    "            value *=-1\n",
    "        total_list.append(value)\n",
    "    \n",
    "    pair_list = []\n",
    "    i=0\n",
    "    if n%2==0:\n",
    "        while i<len(total_list):\n",
    "            pair_list.append(total_list[i]+total_list[i+1])\n",
    "            i+=2\n",
    "    else:\n",
    "        while i<len(total_list)-1:\n",
    "            pair_list.append(total_list[i]+total_list[i+1])\n",
    "            i+=2\n",
    "        pair_list.append(total_list[-1])\n",
    "    \n",
    "    total = sum(total_list)\n",
    "    return total\n",
    "\n",
    "funct_names = [Leibniz_formula_remainder, Leibniz_formula_npower, Leibniz_formula_set, Leibniz_formula_dict, Leibniz_formula_np, Leibniz_formula_np_alt, Leibniz_formula_alt]\n",
    "\n",
    "#making a function to test the parameters for each subsection of problem 2\n",
    "\n",
    "time_list = []\n",
    "return_soln = []\n",
    "accuracy_list = []\n",
    "    \n",
    "def functions_tester():\n",
    "    n = 999\n",
    "    for func in funct_names:\n",
    "        start_time = time.time()\n",
    "        run_time = time.time() - start_time\n",
    "        time_list.append(run_time)\n",
    "        Leibniz_estimate = func(n) * 4\n",
    "        return_soln.append(Leibniz_estimate)\n",
    "        accuracy_list.append(abs(PI - Leibniz_estimate))\n",
    "        \n",
    "    return time_list, return_soln, accuracy_list\n",
    "  \n",
    "#running the tester, and printing results\n",
    "functions_tester()  \n",
    "print(\"min time : \", min(time_list))\n",
    "print(\"best accuracy : \", max(accuracy_list))\n",
    "print(\"The method:\", funct_names[accuracy_list.index(max(accuracy_list))])\n",
    "\n"
   ]
  },
  {
   "cell_type": "markdown",
   "id": "69f29bdf-b7f2-4bcb-99ef-c4cbf4a30b25",
   "metadata": {},
   "source": [
    "Having made a function to test the prior variations of the Leibniz formula. The quickest version was that of each subsection at 0.0ms, and the most accurate was the version of the Set subsection, when calculating pi. "
   ]
  },
  {
   "cell_type": "markdown",
   "id": "3d337380-19db-414a-abf2-73ac6b4efa71",
   "metadata": {},
   "source": [
    "## Problem 4"
   ]
  },
  {
   "cell_type": "code",
   "execution_count": 5,
   "id": "08301b1b-7fd4-4034-bf3e-347b182b5fa4",
   "metadata": {},
   "outputs": [
    {
     "data": {
      "image/png": "[encoded data removed]",
      "text/plain": [
       "<Figure size 400x400 with 1 Axes>"
      ]
     },
     "metadata": {},
     "output_type": "display_data"
    }
   ],
   "source": [
    "#plot the absolute error in the sum as a function of the number of terms in the sum\n",
    "\n",
    "import matplotlib.pyplot as plt\n",
    "import numpy as np\n",
    "\n",
    "n_lst = np.logspace(1, 3, 100)\n",
    "\n",
    "def Leibniz_formula_set(n):\n",
    "    total_set = set()\n",
    "    for k in range(int(n)):\n",
    "        value = (-1)/(2*k+1)\n",
    "        if k%2 == 0:\n",
    "            value *=-1\n",
    "        total_set.add(value)\n",
    "    total = sum(total_set)\n",
    "    return abs(np.pi-4*total)\n",
    "\n",
    "\n",
    "#using set Leibniz formula with for loop to go through iterations\n",
    "soln = []\n",
    "for n in n_lst:\n",
    "    soln.append(Leibniz_formula_set(n))\n",
    "\n",
    "#use logarithmic axes/ legible labels for both the x-axis and y-axis\n",
    "plt.figure(figsize=(4, 4))\n",
    "plt.title('Abs Error as a Function of Iteration Using Leibniz Formula')\n",
    "plt.yscale(\"log\")\n",
    "plt.ylabel('Abs Error (Log)')\n",
    "plt.xscale(\"log\")\n",
    "plt.xlabel('Number of Terms (Log)')\n",
    "plt.plot((n_lst), (soln),'o')\n",
    "\n",
    "\n",
    "#creating the plot itself\n",
    "plt.show()"
   ]
  },
  {
   "cell_type": "markdown",
   "id": "e5b4f9d1-e9a4-4146-8704-4ceb4bda7c75",
   "metadata": {},
   "source": [
    "## Problem 5"
   ]
  },
  {
   "cell_type": "code",
   "execution_count": null,
   "id": "2613a170-eb21-4051-ba9f-cca3abf0e147",
   "metadata": {},
   "outputs": [],
   "source": [
    "#Would you do anything differently for computing π using the Leibniz formula if you were using Matlab instead of Python?\n",
    "\n",
    "At this task level there won't be too much of a difference between the Matlab and Python functions. However, in future use Matlab could be better for using arrays instead of lists when it's coming to iterations. Especially, implementing a null matrix to get started instead of an empty list. Matlab libraries are also better for the plots such as in question 4, to create a quick understandable visual."
   ]
  }
 ],
 "metadata": {
  "kernelspec": {
   "display_name": "Python 3 (ipykernel)",
   "language": "python",
   "name": "python3"
  },
  "language_info": {
   "codemirror_mode": {
    "name": "ipython",
    "version": 3
   },
   "file_extension": ".py",
   "mimetype": "text/x-python",
   "name": "python",
   "nbconvert_exporter": "python",
   "pygments_lexer": "ipython3",
   "version": "3.9.5"
  }
 },
 "nbformat": 4,
 "nbformat_minor": 5
}
